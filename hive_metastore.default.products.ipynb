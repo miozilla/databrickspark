{
 "cells": [
  {
   "cell_type": "code",
   "execution_count": 0,
   "metadata": {
    "application/vnd.databricks.v1+cell": {
     "cellMetadata": {
      "byteLimit": 2048000,
      "implicitDf": true,
      "rowLimit": 10000
     },
     "inputWidgets": {},
     "nuid": "980e471f-41ca-41c0-a7bf-3c9fdcac9104",
     "showTitle": false,
     "tableResultSettingsMap": {},
     "title": ""
    }
   },
   "outputs": [
    {
     "output_type": "display_data",
     "data": {
      "text/html": [
       "<style scoped>\n",
       "  .table-result-container {\n",
       "    max-height: 300px;\n",
       "    overflow: auto;\n",
       "  }\n",
       "  table, th, td {\n",
       "    border: 1px solid black;\n",
       "    border-collapse: collapse;\n",
       "  }\n",
       "  th, td {\n",
       "    padding: 5px;\n",
       "  }\n",
       "  th {\n",
       "    text-align: left;\n",
       "  }\n",
       "</style><div class='table-result-container'><table class='table-result'><thead style='background-color: white'><tr><th>ProductID</th><th>ProductName</th><th>Category</th><th>ListPrice</th></tr></thead><tbody><tr><td>771</td><td>Mountain-100 Silver, 38</td><td>Mountain Bikes</td><td>3399.99</td></tr><tr><td>772</td><td>Mountain-100 Silver, 42</td><td>Mountain Bikes</td><td>3399.99</td></tr><tr><td>773</td><td>Mountain-100 Silver, 44</td><td>Mountain Bikes</td><td>3399.99</td></tr><tr><td>774</td><td>Mountain-100 Silver, 48</td><td>Mountain Bikes</td><td>3399.99</td></tr><tr><td>775</td><td>Mountain-100 Black, 38</td><td>Mountain Bikes</td><td>3374.99</td></tr><tr><td>776</td><td>Mountain-100 Black, 42</td><td>Mountain Bikes</td><td>3374.99</td></tr><tr><td>777</td><td>Mountain-100 Black, 44</td><td>Mountain Bikes</td><td>3374.99</td></tr><tr><td>778</td><td>Mountain-100 Black, 48</td><td>Mountain Bikes</td><td>3374.99</td></tr><tr><td>779</td><td>Mountain-200 Silver, 38</td><td>Mountain Bikes</td><td>2319.99</td></tr><tr><td>780</td><td>Mountain-200 Silver, 42</td><td>Mountain Bikes</td><td>2319.99</td></tr><tr><td>781</td><td>Mountain-200 Silver, 46</td><td>Mountain Bikes</td><td>2319.99</td></tr><tr><td>782</td><td>Mountain-200 Black, 38</td><td>Mountain Bikes</td><td>2294.99</td></tr><tr><td>783</td><td>Mountain-200 Black, 42</td><td>Mountain Bikes</td><td>2294.99</td></tr><tr><td>784</td><td>Mountain-200 Black, 46</td><td>Mountain Bikes</td><td>2294.99</td></tr><tr><td>785</td><td>Mountain-300 Black, 38</td><td>Mountain Bikes</td><td>1079.99</td></tr><tr><td>786</td><td>Mountain-300 Black, 40</td><td>Mountain Bikes</td><td>1079.99</td></tr><tr><td>787</td><td>Mountain-300 Black, 44</td><td>Mountain Bikes</td><td>1079.99</td></tr><tr><td>788</td><td>Mountain-300 Black, 48</td><td>Mountain Bikes</td><td>1079.99</td></tr><tr><td>980</td><td>Mountain-400-W Silver, 38</td><td>Mountain Bikes</td><td>769.49</td></tr><tr><td>981</td><td>Mountain-400-W Silver, 40</td><td>Mountain Bikes</td><td>769.49</td></tr><tr><td>982</td><td>Mountain-400-W Silver, 42</td><td>Mountain Bikes</td><td>769.49</td></tr><tr><td>983</td><td>Mountain-400-W Silver, 46</td><td>Mountain Bikes</td><td>769.49</td></tr><tr><td>984</td><td>Mountain-500 Silver, 40</td><td>Mountain Bikes</td><td>564.99</td></tr><tr><td>985</td><td>Mountain-500 Silver, 42</td><td>Mountain Bikes</td><td>564.99</td></tr><tr><td>986</td><td>Mountain-500 Silver, 44</td><td>Mountain Bikes</td><td>564.99</td></tr><tr><td>987</td><td>Mountain-500 Silver, 48</td><td>Mountain Bikes</td><td>564.99</td></tr><tr><td>988</td><td>Mountain-500 Silver, 52</td><td>Mountain Bikes</td><td>564.99</td></tr><tr><td>989</td><td>Mountain-500 Black, 40</td><td>Mountain Bikes</td><td>539.99</td></tr><tr><td>990</td><td>Mountain-500 Black, 42</td><td>Mountain Bikes</td><td>539.99</td></tr><tr><td>991</td><td>Mountain-500 Black, 44</td><td>Mountain Bikes</td><td>539.99</td></tr><tr><td>992</td><td>Mountain-500 Black, 48</td><td>Mountain Bikes</td><td>539.99</td></tr><tr><td>993</td><td>Mountain-500 Black, 52</td><td>Mountain Bikes</td><td>539.99</td></tr><tr><td>973</td><td>Road-350-W Yellow, 40</td><td>Road Bikes</td><td>1700.99</td></tr><tr><td>974</td><td>Road-350-W Yellow, 42</td><td>Road Bikes</td><td>1700.99</td></tr><tr><td>975</td><td>Road-350-W Yellow, 44</td><td>Road Bikes</td><td>1700.99</td></tr><tr><td>976</td><td>Road-350-W Yellow, 48</td><td>Road Bikes</td><td>1700.99</td></tr><tr><td>977</td><td>Road-750 Black, 58</td><td>Road Bikes</td><td>539.99</td></tr><tr><td>997</td><td>Road-750 Black, 44</td><td>Road Bikes</td><td>539.99</td></tr><tr><td>998</td><td>Road-750 Black, 48</td><td>Road Bikes</td><td>539.99</td></tr><tr><td>999</td><td>Road-750 Black, 52</td><td>Road Bikes</td><td>539.99</td></tr><tr><td>789</td><td>Road-250 Red, 44</td><td>Road Bikes</td><td>2443.35</td></tr><tr><td>790</td><td>Road-250 Red, 48</td><td>Road Bikes</td><td>2443.35</td></tr><tr><td>791</td><td>Road-250 Red, 52</td><td>Road Bikes</td><td>2443.35</td></tr><tr><td>792</td><td>Road-250 Red, 58</td><td>Road Bikes</td><td>2443.35</td></tr><tr><td>793</td><td>Road-250 Black, 44</td><td>Road Bikes</td><td>2443.35</td></tr><tr><td>794</td><td>Road-250 Black, 48</td><td>Road Bikes</td><td>2443.35</td></tr><tr><td>795</td><td>Road-250 Black, 52</td><td>Road Bikes</td><td>2443.35</td></tr><tr><td>796</td><td>Road-250 Black, 58</td><td>Road Bikes</td><td>2443.35</td></tr><tr><td>797</td><td>Road-550-W Yellow, 38</td><td>Road Bikes</td><td>1120.49</td></tr><tr><td>798</td><td>Road-550-W Yellow, 40</td><td>Road Bikes</td><td>1120.49</td></tr><tr><td>799</td><td>Road-550-W Yellow, 42</td><td>Road Bikes</td><td>1120.49</td></tr><tr><td>800</td><td>Road-550-W Yellow, 44</td><td>Road Bikes</td><td>1120.49</td></tr><tr><td>801</td><td>Road-550-W Yellow, 48</td><td>Road Bikes</td><td>1120.49</td></tr><tr><td>749</td><td>Road-150 Red, 62</td><td>Road Bikes</td><td>3578.27</td></tr><tr><td>750</td><td>Road-150 Red, 44</td><td>Road Bikes</td><td>3578.27</td></tr><tr><td>751</td><td>Road-150 Red, 48</td><td>Road Bikes</td><td>3578.27</td></tr><tr><td>752</td><td>Road-150 Red, 52</td><td>Road Bikes</td><td>3578.27</td></tr><tr><td>753</td><td>Road-150 Red, 56</td><td>Road Bikes</td><td>3578.27</td></tr><tr><td>754</td><td>Road-450 Red, 58</td><td>Road Bikes</td><td>1457.99</td></tr><tr><td>755</td><td>Road-450 Red, 60</td><td>Road Bikes</td><td>1457.99</td></tr><tr><td>756</td><td>Road-450 Red, 44</td><td>Road Bikes</td><td>1457.99</td></tr><tr><td>757</td><td>Road-450 Red, 48</td><td>Road Bikes</td><td>1457.99</td></tr><tr><td>758</td><td>Road-450 Red, 52</td><td>Road Bikes</td><td>1457.99</td></tr><tr><td>759</td><td>Road-650 Red, 58</td><td>Road Bikes</td><td>782.99</td></tr><tr><td>760</td><td>Road-650 Red, 60</td><td>Road Bikes</td><td>782.99</td></tr><tr><td>761</td><td>Road-650 Red, 62</td><td>Road Bikes</td><td>782.99</td></tr><tr><td>762</td><td>Road-650 Red, 44</td><td>Road Bikes</td><td>782.99</td></tr><tr><td>763</td><td>Road-650 Red, 48</td><td>Road Bikes</td><td>782.99</td></tr><tr><td>764</td><td>Road-650 Red, 52</td><td>Road Bikes</td><td>782.99</td></tr><tr><td>765</td><td>Road-650 Black, 58</td><td>Road Bikes</td><td>782.99</td></tr><tr><td>766</td><td>Road-650 Black, 60</td><td>Road Bikes</td><td>782.99</td></tr><tr><td>767</td><td>Road-650 Black, 62</td><td>Road Bikes</td><td>782.99</td></tr><tr><td>768</td><td>Road-650 Black, 44</td><td>Road Bikes</td><td>782.99</td></tr><tr><td>769</td><td>Road-650 Black, 48</td><td>Road Bikes</td><td>782.99</td></tr><tr><td>770</td><td>Road-650 Black, 52</td><td>Road Bikes</td><td>782.99</td></tr><tr><td>978</td><td>Touring-3000 Blue, 44</td><td>Touring Bikes</td><td>742.35</td></tr><tr><td>979</td><td>Touring-3000 Blue, 50</td><td>Touring Bikes</td><td>742.35</td></tr><tr><td>953</td><td>Touring-2000 Blue, 60</td><td>Touring Bikes</td><td>1214.85</td></tr><tr><td>954</td><td>Touring-1000 Yellow, 46</td><td>Touring Bikes</td><td>2384.07</td></tr><tr><td>955</td><td>Touring-1000 Yellow, 50</td><td>Touring Bikes</td><td>2384.07</td></tr><tr><td>956</td><td>Touring-1000 Yellow, 54</td><td>Touring Bikes</td><td>2384.07</td></tr><tr><td>957</td><td>Touring-1000 Yellow, 60</td><td>Touring Bikes</td><td>2384.07</td></tr><tr><td>958</td><td>Touring-3000 Blue, 54</td><td>Touring Bikes</td><td>742.35</td></tr><tr><td>959</td><td>Touring-3000 Blue, 58</td><td>Touring Bikes</td><td>742.35</td></tr><tr><td>960</td><td>Touring-3000 Blue, 62</td><td>Touring Bikes</td><td>742.35</td></tr><tr><td>961</td><td>Touring-3000 Yellow, 44</td><td>Touring Bikes</td><td>742.35</td></tr><tr><td>962</td><td>Touring-3000 Yellow, 50</td><td>Touring Bikes</td><td>742.35</td></tr><tr><td>963</td><td>Touring-3000 Yellow, 54</td><td>Touring Bikes</td><td>742.35</td></tr><tr><td>964</td><td>Touring-3000 Yellow, 58</td><td>Touring Bikes</td><td>742.35</td></tr><tr><td>965</td><td>Touring-3000 Yellow, 62</td><td>Touring Bikes</td><td>742.35</td></tr><tr><td>966</td><td>Touring-1000 Blue, 46</td><td>Touring Bikes</td><td>2384.07</td></tr><tr><td>967</td><td>Touring-1000 Blue, 50</td><td>Touring Bikes</td><td>2384.07</td></tr><tr><td>968</td><td>Touring-1000 Blue, 54</td><td>Touring Bikes</td><td>2384.07</td></tr><tr><td>969</td><td>Touring-1000 Blue, 60</td><td>Touring Bikes</td><td>2384.07</td></tr><tr><td>970</td><td>Touring-2000 Blue, 46</td><td>Touring Bikes</td><td>1214.85</td></tr><tr><td>971</td><td>Touring-2000 Blue, 50</td><td>Touring Bikes</td><td>1214.85</td></tr><tr><td>972</td><td>Touring-2000 Blue, 54</td><td>Touring Bikes</td><td>1214.85</td></tr><tr><td>946</td><td>LL Touring Handlebars</td><td>Handlebars</td><td>46.09</td></tr><tr><td>947</td><td>HL Touring Handlebars</td><td>Handlebars</td><td>91.57</td></tr><tr><td>808</td><td>LL Mountain Handlebars</td><td>Handlebars</td><td>44.54</td></tr><tr><td>809</td><td>ML Mountain Handlebars</td><td>Handlebars</td><td>61.92</td></tr><tr><td>810</td><td>HL Mountain Handlebars</td><td>Handlebars</td><td>120.27</td></tr><tr><td>811</td><td>LL Road Handlebars</td><td>Handlebars</td><td>44.54</td></tr><tr><td>812</td><td>ML Road Handlebars</td><td>Handlebars</td><td>61.92</td></tr><tr><td>813</td><td>HL Road Handlebars</td><td>Handlebars</td><td>120.27</td></tr><tr><td>994</td><td>LL Bottom Bracket</td><td>Bottom Brackets</td><td>53.99</td></tr><tr><td>995</td><td>ML Bottom Bracket</td><td>Bottom Brackets</td><td>101.24</td></tr><tr><td>996</td><td>HL Bottom Bracket</td><td>Bottom Brackets</td><td>121.49</td></tr><tr><td>948</td><td>Front Brakes</td><td>Brakes</td><td>106.5</td></tr><tr><td>907</td><td>Rear Brakes</td><td>Brakes</td><td>106.5</td></tr><tr><td>952</td><td>Chain</td><td>Chains</td><td>20.24</td></tr><tr><td>949</td><td>LL Crankset</td><td>Cranksets</td><td>175.49</td></tr><tr><td>950</td><td>ML Crankset</td><td>Cranksets</td><td>256.49</td></tr><tr><td>951</td><td>HL Crankset</td><td>Cranksets</td><td>404.99</td></tr><tr><td>945</td><td>Front Derailleur</td><td>Derailleurs</td><td>91.49</td></tr><tr><td>894</td><td>Rear Derailleur</td><td>Derailleurs</td><td>121.46</td></tr><tr><td>802</td><td>LL Fork</td><td>Forks</td><td>148.22</td></tr><tr><td>803</td><td>ML Fork</td><td>Forks</td><td>175.49</td></tr><tr><td>804</td><td>HL Fork</td><td>Forks</td><td>229.49</td></tr><tr><td>805</td><td>LL Headset</td><td>Headsets</td><td>34.2</td></tr><tr><td>806</td><td>ML Headset</td><td>Headsets</td><td>102.29</td></tr><tr><td>807</td><td>HL Headset</td><td>Headsets</td><td>124.73</td></tr><tr><td>739</td><td>HL Mountain Frame - Silver, 42</td><td>Mountain Frames</td><td>1364.5</td></tr><tr><td>740</td><td>HL Mountain Frame - Silver, 44</td><td>Mountain Frames</td><td>1364.5</td></tr><tr><td>741</td><td>HL Mountain Frame - Silver, 48</td><td>Mountain Frames</td><td>1364.5</td></tr><tr><td>742</td><td>HL Mountain Frame - Silver, 46</td><td>Mountain Frames</td><td>1364.5</td></tr><tr><td>743</td><td>HL Mountain Frame - Black, 42</td><td>Mountain Frames</td><td>1349.6</td></tr><tr><td>744</td><td>HL Mountain Frame - Black, 44</td><td>Mountain Frames</td><td>1349.6</td></tr><tr><td>745</td><td>HL Mountain Frame - Black, 48</td><td>Mountain Frames</td><td>1349.6</td></tr><tr><td>746</td><td>HL Mountain Frame - Black, 46</td><td>Mountain Frames</td><td>1349.6</td></tr><tr><td>747</td><td>HL Mountain Frame - Black, 38</td><td>Mountain Frames</td><td>1349.6</td></tr><tr><td>748</td><td>HL Mountain Frame - Silver, 38</td><td>Mountain Frames</td><td>1364.5</td></tr><tr><td>814</td><td>ML Mountain Frame - Black, 38</td><td>Mountain Frames</td><td>348.76</td></tr><tr><td>830</td><td>ML Mountain Frame - Black, 40</td><td>Mountain Frames</td><td>348.76</td></tr><tr><td>831</td><td>ML Mountain Frame - Black, 44</td><td>Mountain Frames</td><td>348.76</td></tr><tr><td>832</td><td>ML Mountain Frame - Black, 48</td><td>Mountain Frames</td><td>348.76</td></tr><tr><td>924</td><td>LL Mountain Frame - Black, 42</td><td>Mountain Frames</td><td>249.79</td></tr><tr><td>925</td><td>LL Mountain Frame - Black, 44</td><td>Mountain Frames</td><td>249.79</td></tr><tr><td>926</td><td>LL Mountain Frame - Black, 48</td><td>Mountain Frames</td><td>249.79</td></tr><tr><td>927</td><td>LL Mountain Frame - Black, 52</td><td>Mountain Frames</td><td>249.79</td></tr><tr><td>917</td><td>LL Mountain Frame - Silver, 42</td><td>Mountain Frames</td><td>264.05</td></tr><tr><td>918</td><td>LL Mountain Frame - Silver, 44</td><td>Mountain Frames</td><td>264.05</td></tr><tr><td>919</td><td>LL Mountain Frame - Silver, 48</td><td>Mountain Frames</td><td>264.05</td></tr><tr><td>920</td><td>LL Mountain Frame - Silver, 52</td><td>Mountain Frames</td><td>264.05</td></tr><tr><td>904</td><td>ML Mountain Frame-W - Silver, 40</td><td>Mountain Frames</td><td>364.09</td></tr><tr><td>905</td><td>ML Mountain Frame-W - Silver, 42</td><td>Mountain Frames</td><td>364.09</td></tr><tr><td>906</td><td>ML Mountain Frame-W - Silver, 46</td><td>Mountain Frames</td><td>364.09</td></tr><tr><td>942</td><td>ML Mountain Frame-W - Silver, 38</td><td>Mountain Frames</td><td>364.09</td></tr><tr><td>943</td><td>LL Mountain Frame - Black, 40</td><td>Mountain Frames</td><td>249.79</td></tr><tr><td>944</td><td>LL Mountain Frame - Silver, 40</td><td>Mountain Frames</td><td>264.05</td></tr><tr><td>935</td><td>LL Mountain Pedal</td><td>Pedals</td><td>40.49</td></tr><tr><td>936</td><td>ML Mountain Pedal</td><td>Pedals</td><td>62.09</td></tr><tr><td>937</td><td>HL Mountain Pedal</td><td>Pedals</td><td>80.99</td></tr><tr><td>938</td><td>LL Road Pedal</td><td>Pedals</td><td>40.49</td></tr><tr><td>939</td><td>ML Road Pedal</td><td>Pedals</td><td>62.09</td></tr><tr><td>940</td><td>HL Road Pedal</td><td>Pedals</td><td>80.99</td></tr><tr><td>941</td><td>Touring Pedal</td><td>Pedals</td><td>80.99</td></tr><tr><td>833</td><td>ML Road Frame-W - Yellow, 40</td><td>Road Frames</td><td>594.83</td></tr><tr><td>834</td><td>ML Road Frame-W - Yellow, 42</td><td>Road Frames</td><td>594.83</td></tr><tr><td>835</td><td>ML Road Frame-W - Yellow, 44</td><td>Road Frames</td><td>594.83</td></tr><tr><td>836</td><td>ML Road Frame-W - Yellow, 48</td><td>Road Frames</td><td>594.83</td></tr><tr><td>837</td><td>HL Road Frame - Black, 62</td><td>Road Frames</td><td>1431.5</td></tr><tr><td>838</td><td>HL Road Frame - Black, 44</td><td>Road Frames</td><td>1431.5</td></tr><tr><td>839</td><td>HL Road Frame - Black, 48</td><td>Road Frames</td><td>1431.5</td></tr><tr><td>840</td><td>HL Road Frame - Black, 52</td><td>Road Frames</td><td>1431.5</td></tr><tr><td>822</td><td>ML Road Frame-W - Yellow, 38</td><td>Road Frames</td><td>594.83</td></tr><tr><td>680</td><td>HL Road Frame - Black, 58</td><td>Road Frames</td><td>1431.5</td></tr><tr><td>706</td><td>HL Road Frame - Red, 58</td><td>Road Frames</td><td>1431.5</td></tr><tr><td>717</td><td>HL Road Frame - Red, 62</td><td>Road Frames</td><td>1431.5</td></tr><tr><td>718</td><td>HL Road Frame - Red, 44</td><td>Road Frames</td><td>1431.5</td></tr><tr><td>719</td><td>HL Road Frame - Red, 48</td><td>Road Frames</td><td>1431.5</td></tr><tr><td>720</td><td>HL Road Frame - Red, 52</td><td>Road Frames</td><td>1431.5</td></tr><tr><td>721</td><td>HL Road Frame - Red, 56</td><td>Road Frames</td><td>1431.5</td></tr><tr><td>722</td><td>LL Road Frame - Black, 58</td><td>Road Frames</td><td>337.22</td></tr><tr><td>723</td><td>LL Road Frame - Black, 60</td><td>Road Frames</td><td>337.22</td></tr><tr><td>724</td><td>LL Road Frame - Black, 62</td><td>Road Frames</td><td>337.22</td></tr><tr><td>725</td><td>LL Road Frame - Red, 44</td><td>Road Frames</td><td>337.22</td></tr><tr><td>726</td><td>LL Road Frame - Red, 48</td><td>Road Frames</td><td>337.22</td></tr><tr><td>727</td><td>LL Road Frame - Red, 52</td><td>Road Frames</td><td>337.22</td></tr><tr><td>728</td><td>LL Road Frame - Red, 58</td><td>Road Frames</td><td>337.22</td></tr><tr><td>729</td><td>LL Road Frame - Red, 60</td><td>Road Frames</td><td>337.22</td></tr><tr><td>730</td><td>LL Road Frame - Red, 62</td><td>Road Frames</td><td>337.22</td></tr><tr><td>731</td><td>ML Road Frame - Red, 44</td><td>Road Frames</td><td>594.83</td></tr><tr><td>732</td><td>ML Road Frame - Red, 48</td><td>Road Frames</td><td>594.83</td></tr><tr><td>733</td><td>ML Road Frame - Red, 52</td><td>Road Frames</td><td>594.83</td></tr><tr><td>734</td><td>ML Road Frame - Red, 58</td><td>Road Frames</td><td>594.83</td></tr><tr><td>735</td><td>ML Road Frame - Red, 60</td><td>Road Frames</td><td>594.83</td></tr><tr><td>736</td><td>LL Road Frame - Black, 44</td><td>Road Frames</td><td>337.22</td></tr><tr><td>737</td><td>LL Road Frame - Black, 48</td><td>Road Frames</td><td>337.22</td></tr><tr><td>738</td><td>LL Road Frame - Black, 52</td><td>Road Frames</td><td>337.22</td></tr><tr><td>908</td><td>LL Mountain Seat/Saddle</td><td>Saddles</td><td>27.12</td></tr><tr><td>909</td><td>ML Mountain Seat/Saddle</td><td>Saddles</td><td>39.14</td></tr><tr><td>910</td><td>HL Mountain Seat/Saddle</td><td>Saddles</td><td>52.64</td></tr><tr><td>911</td><td>LL Road Seat/Saddle</td><td>Saddles</td><td>27.12</td></tr><tr><td>912</td><td>ML Road Seat/Saddle</td><td>Saddles</td><td>39.14</td></tr><tr><td>913</td><td>HL Road Seat/Saddle</td><td>Saddles</td><td>52.64</td></tr><tr><td>914</td><td>LL Touring Seat/Saddle</td><td>Saddles</td><td>27.12</td></tr><tr><td>915</td><td>ML Touring Seat/Saddle</td><td>Saddles</td><td>39.14</td></tr><tr><td>916</td><td>HL Touring Seat/Saddle</td><td>Saddles</td><td>52.64</td></tr><tr><td>895</td><td>LL Touring Frame - Blue, 50</td><td>Touring Frames</td><td>333.42</td></tr><tr><td>896</td><td>LL Touring Frame - Blue, 54</td><td>Touring Frames</td><td>333.42</td></tr><tr><td>897</td><td>LL Touring Frame - Blue, 58</td><td>Touring Frames</td><td>333.42</td></tr><tr><td>898</td><td>LL Touring Frame - Blue, 62</td><td>Touring Frames</td><td>333.42</td></tr><tr><td>899</td><td>LL Touring Frame - Yellow, 44</td><td>Touring Frames</td><td>333.42</td></tr><tr><td>900</td><td>LL Touring Frame - Yellow, 50</td><td>Touring Frames</td><td>333.42</td></tr><tr><td>901</td><td>LL Touring Frame - Yellow, 54</td><td>Touring Frames</td><td>333.42</td></tr><tr><td>902</td><td>LL Touring Frame - Yellow, 58</td><td>Touring Frames</td><td>333.42</td></tr><tr><td>903</td><td>LL Touring Frame - Blue, 44</td><td>Touring Frames</td><td>333.42</td></tr><tr><td>885</td><td>HL Touring Frame - Yellow, 60</td><td>Touring Frames</td><td>1003.91</td></tr><tr><td>886</td><td>LL Touring Frame - Yellow, 62</td><td>Touring Frames</td><td>333.42</td></tr><tr><td>887</td><td>HL Touring Frame - Yellow, 46</td><td>Touring Frames</td><td>1003.91</td></tr><tr><td>888</td><td>HL Touring Frame - Yellow, 50</td><td>Touring Frames</td><td>1003.91</td></tr><tr><td>889</td><td>HL Touring Frame - Yellow, 54</td><td>Touring Frames</td><td>1003.91</td></tr><tr><td>890</td><td>HL Touring Frame - Blue, 46</td><td>Touring Frames</td><td>1003.91</td></tr><tr><td>891</td><td>HL Touring Frame - Blue, 50</td><td>Touring Frames</td><td>1003.91</td></tr><tr><td>892</td><td>HL Touring Frame - Blue, 54</td><td>Touring Frames</td><td>1003.91</td></tr><tr><td>893</td><td>HL Touring Frame - Blue, 60</td><td>Touring Frames</td><td>1003.91</td></tr><tr><td>823</td><td>LL Mountain Rear Wheel</td><td>Wheels</td><td>87.745</td></tr><tr><td>824</td><td>ML Mountain Rear Wheel</td><td>Wheels</td><td>236.025</td></tr><tr><td>825</td><td>HL Mountain Rear Wheel</td><td>Wheels</td><td>327.215</td></tr><tr><td>826</td><td>LL Road Rear Wheel</td><td>Wheels</td><td>112.565</td></tr><tr><td>827</td><td>ML Road Rear Wheel</td><td>Wheels</td><td>275.385</td></tr><tr><td>828</td><td>HL Road Rear Wheel</td><td>Wheels</td><td>357.06</td></tr><tr><td>829</td><td>Touring Rear Wheel</td><td>Wheels</td><td>245.01</td></tr><tr><td>815</td><td>LL Mountain Front Wheel</td><td>Wheels</td><td>60.745</td></tr><tr><td>816</td><td>ML Mountain Front Wheel</td><td>Wheels</td><td>209.025</td></tr><tr><td>817</td><td>HL Mountain Front Wheel</td><td>Wheels</td><td>300.215</td></tr><tr><td>818</td><td>LL Road Front Wheel</td><td>Wheels</td><td>85.565</td></tr><tr><td>819</td><td>ML Road Front Wheel</td><td>Wheels</td><td>248.385</td></tr><tr><td>820</td><td>HL Road Front Wheel</td><td>Wheels</td><td>330.06</td></tr><tr><td>821</td><td>Touring Front Wheel</td><td>Wheels</td><td>218.01</td></tr><tr><td>855</td><td>Men's Bib-Shorts, S</td><td>Bib-Shorts</td><td>89.99</td></tr><tr><td>856</td><td>Men's Bib-Shorts, M</td><td>Bib-Shorts</td><td>89.99</td></tr><tr><td>857</td><td>Men's Bib-Shorts, L</td><td>Bib-Shorts</td><td>89.99</td></tr><tr><td>712</td><td>AWC Logo Cap</td><td>Caps</td><td>8.99</td></tr><tr><td>858</td><td>Half-Finger Gloves, S</td><td>Gloves</td><td>24.49</td></tr><tr><td>859</td><td>Half-Finger Gloves, M</td><td>Gloves</td><td>24.49</td></tr><tr><td>860</td><td>Half-Finger Gloves, L</td><td>Gloves</td><td>24.49</td></tr><tr><td>861</td><td>Full-Finger Gloves, S</td><td>Gloves</td><td>37.99</td></tr><tr><td>862</td><td>Full-Finger Gloves, M</td><td>Gloves</td><td>37.99</td></tr><tr><td>863</td><td>Full-Finger Gloves, L</td><td>Gloves</td><td>37.99</td></tr><tr><td>713</td><td>Long-Sleeve Logo Jersey, S</td><td>Jerseys</td><td>49.99</td></tr><tr><td>714</td><td>Long-Sleeve Logo Jersey, M</td><td>Jerseys</td><td>49.99</td></tr><tr><td>715</td><td>Long-Sleeve Logo Jersey, L</td><td>Jerseys</td><td>49.99</td></tr><tr><td>716</td><td>Long-Sleeve Logo Jersey, XL</td><td>Jerseys</td><td>49.99</td></tr><tr><td>881</td><td>Short-Sleeve Classic Jersey, S</td><td>Jerseys</td><td>53.99</td></tr><tr><td>882</td><td>Short-Sleeve Classic Jersey, M</td><td>Jerseys</td><td>53.99</td></tr><tr><td>883</td><td>Short-Sleeve Classic Jersey, L</td><td>Jerseys</td><td>53.99</td></tr><tr><td>884</td><td>Short-Sleeve Classic Jersey, XL</td><td>Jerseys</td><td>53.99</td></tr><tr><td>867</td><td>Women's Mountain Shorts, S</td><td>Shorts</td><td>69.99</td></tr><tr><td>868</td><td>Women's Mountain Shorts, M</td><td>Shorts</td><td>69.99</td></tr><tr><td>869</td><td>Women's Mountain Shorts, L</td><td>Shorts</td><td>69.99</td></tr><tr><td>841</td><td>Men's Sports Shorts, S</td><td>Shorts</td><td>59.99</td></tr><tr><td>849</td><td>Men's Sports Shorts, M</td><td>Shorts</td><td>59.99</td></tr><tr><td>850</td><td>Men's Sports Shorts, L</td><td>Shorts</td><td>59.99</td></tr><tr><td>851</td><td>Men's Sports Shorts, XL</td><td>Shorts</td><td>59.99</td></tr><tr><td>709</td><td>Mountain Bike Socks, M</td><td>Socks</td><td>9.5</td></tr><tr><td>710</td><td>Mountain Bike Socks, L</td><td>Socks</td><td>9.5</td></tr><tr><td>874</td><td>Racing Socks, M</td><td>Socks</td><td>8.99</td></tr><tr><td>875</td><td>Racing Socks, L</td><td>Socks</td><td>8.99</td></tr><tr><td>852</td><td>Women's Tights, S</td><td>Tights</td><td>74.99</td></tr><tr><td>853</td><td>Women's Tights, M</td><td>Tights</td><td>74.99</td></tr><tr><td>854</td><td>Women's Tights, L</td><td>Tights</td><td>74.99</td></tr><tr><td>864</td><td>Classic Vest, S</td><td>Vests</td><td>63.5</td></tr><tr><td>865</td><td>Classic Vest, M</td><td>Vests</td><td>63.5</td></tr><tr><td>866</td><td>Classic Vest, L</td><td>Vests</td><td>63.5</td></tr><tr><td>876</td><td>Hitch Rack - 4-Bike</td><td>Bike Racks</td><td>120.0</td></tr><tr><td>879</td><td>All-Purpose Bike Stand</td><td>Bike Stands</td><td>159.0</td></tr><tr><td>870</td><td>Water Bottle - 30 oz.</td><td>Bottles and Cages</td><td>4.99</td></tr><tr><td>871</td><td>Mountain Bottle Cage</td><td>Bottles and Cages</td><td>9.99</td></tr><tr><td>872</td><td>Road Bottle Cage</td><td>Bottles and Cages</td><td>8.99</td></tr><tr><td>877</td><td>Bike Wash - Dissolver</td><td>Cleaners</td><td>7.95</td></tr><tr><td>878</td><td>Fender Set - Mountain</td><td>Fenders</td><td>21.98</td></tr><tr><td>711</td><td>Sport-100 Helmet, Blue</td><td>Helmets</td><td>34.99</td></tr><tr><td>707</td><td>Sport-100 Helmet, Red</td><td>Helmets</td><td>34.99</td></tr><tr><td>708</td><td>Sport-100 Helmet, Black</td><td>Helmets</td><td>34.99</td></tr><tr><td>880</td><td>Hydration Pack - 70 oz.</td><td>Hydration Packs</td><td>54.99</td></tr><tr><td>846</td><td>Taillights - Battery-Powered</td><td>Lights</td><td>13.99</td></tr><tr><td>847</td><td>Headlights - Dual-Beam</td><td>Lights</td><td>34.99</td></tr><tr><td>848</td><td>Headlights - Weatherproof</td><td>Lights</td><td>44.99</td></tr><tr><td>843</td><td>Cable Lock</td><td>Locks</td><td>25.0</td></tr><tr><td>842</td><td>Touring-Panniers, Large</td><td>Panniers</td><td>125.0</td></tr><tr><td>844</td><td>Minipump</td><td>Pumps</td><td>19.99</td></tr><tr><td>845</td><td>Mountain Pump</td><td>Pumps</td><td>24.99</td></tr><tr><td>873</td><td>Patch Kit/8 Patches</td><td>Tires and Tubes</td><td>2.29</td></tr><tr><td>921</td><td>Mountain Tire Tube</td><td>Tires and Tubes</td><td>4.99</td></tr><tr><td>922</td><td>Road Tire Tube</td><td>Tires and Tubes</td><td>3.99</td></tr><tr><td>923</td><td>Touring Tire Tube</td><td>Tires and Tubes</td><td>4.99</td></tr><tr><td>928</td><td>LL Mountain Tire</td><td>Tires and Tubes</td><td>24.99</td></tr><tr><td>929</td><td>ML Mountain Tire</td><td>Tires and Tubes</td><td>29.99</td></tr><tr><td>930</td><td>HL Mountain Tire</td><td>Tires and Tubes</td><td>35.0</td></tr><tr><td>931</td><td>LL Road Tire</td><td>Tires and Tubes</td><td>21.49</td></tr><tr><td>932</td><td>ML Road Tire</td><td>Tires and Tubes</td><td>24.99</td></tr><tr><td>933</td><td>HL Road Tire</td><td>Tires and Tubes</td><td>32.6</td></tr><tr><td>934</td><td>Touring Tire</td><td>Tires and Tubes</td><td>28.99</td></tr></tbody></table></div>"
      ]
     },
     "metadata": {
      "application/vnd.databricks.v1+output": {
       "addedWidgets": {},
       "aggData": [],
       "aggError": "",
       "aggOverflow": false,
       "aggSchema": [],
       "aggSeriesLimitReached": false,
       "aggType": "",
       "arguments": {},
       "columnCustomDisplayInfos": {},
       "data": [
        [
         771,
         "Mountain-100 Silver, 38",
         "Mountain Bikes",
         3399.99
        ],
        [
         772,
         "Mountain-100 Silver, 42",
         "Mountain Bikes",
         3399.99
        ],
        [
         773,
         "Mountain-100 Silver, 44",
         "Mountain Bikes",
         3399.99
        ],
        [
         774,
         "Mountain-100 Silver, 48",
         "Mountain Bikes",
         3399.99
        ],
        [
         775,
         "Mountain-100 Black, 38",
         "Mountain Bikes",
         3374.99
        ],
        [
         776,
         "Mountain-100 Black, 42",
         "Mountain Bikes",
         3374.99
        ],
        [
         777,
         "Mountain-100 Black, 44",
         "Mountain Bikes",
         3374.99
        ],
        [
         778,
         "Mountain-100 Black, 48",
         "Mountain Bikes",
         3374.99
        ],
        [
         779,
         "Mountain-200 Silver, 38",
         "Mountain Bikes",
         2319.99
        ],
        [
         780,
         "Mountain-200 Silver, 42",
         "Mountain Bikes",
         2319.99
        ],
        [
         781,
         "Mountain-200 Silver, 46",
         "Mountain Bikes",
         2319.99
        ],
        [
         782,
         "Mountain-200 Black, 38",
         "Mountain Bikes",
         2294.99
        ],
        [
         783,
         "Mountain-200 Black, 42",
         "Mountain Bikes",
         2294.99
        ],
        [
         784,
         "Mountain-200 Black, 46",
         "Mountain Bikes",
         2294.99
        ],
        [
         785,
         "Mountain-300 Black, 38",
         "Mountain Bikes",
         1079.99
        ],
        [
         786,
         "Mountain-300 Black, 40",
         "Mountain Bikes",
         1079.99
        ],
        [
         787,
         "Mountain-300 Black, 44",
         "Mountain Bikes",
         1079.99
        ],
        [
         788,
         "Mountain-300 Black, 48",
         "Mountain Bikes",
         1079.99
        ],
        [
         980,
         "Mountain-400-W Silver, 38",
         "Mountain Bikes",
         769.49
        ],
        [
         981,
         "Mountain-400-W Silver, 40",
         "Mountain Bikes",
         769.49
        ],
        [
         982,
         "Mountain-400-W Silver, 42",
         "Mountain Bikes",
         769.49
        ],
        [
         983,
         "Mountain-400-W Silver, 46",
         "Mountain Bikes",
         769.49
        ],
        [
         984,
         "Mountain-500 Silver, 40",
         "Mountain Bikes",
         564.99
        ],
        [
         985,
         "Mountain-500 Silver, 42",
         "Mountain Bikes",
         564.99
        ],
        [
         986,
         "Mountain-500 Silver, 44",
         "Mountain Bikes",
         564.99
        ],
        [
         987,
         "Mountain-500 Silver, 48",
         "Mountain Bikes",
         564.99
        ],
        [
         988,
         "Mountain-500 Silver, 52",
         "Mountain Bikes",
         564.99
        ],
        [
         989,
         "Mountain-500 Black, 40",
         "Mountain Bikes",
         539.99
        ],
        [
         990,
         "Mountain-500 Black, 42",
         "Mountain Bikes",
         539.99
        ],
        [
         991,
         "Mountain-500 Black, 44",
         "Mountain Bikes",
         539.99
        ],
        [
         992,
         "Mountain-500 Black, 48",
         "Mountain Bikes",
         539.99
        ],
        [
         993,
         "Mountain-500 Black, 52",
         "Mountain Bikes",
         539.99
        ],
        [
         973,
         "Road-350-W Yellow, 40",
         "Road Bikes",
         1700.99
        ],
        [
         974,
         "Road-350-W Yellow, 42",
         "Road Bikes",
         1700.99
        ],
        [
         975,
         "Road-350-W Yellow, 44",
         "Road Bikes",
         1700.99
        ],
        [
         976,
         "Road-350-W Yellow, 48",
         "Road Bikes",
         1700.99
        ],
        [
         977,
         "Road-750 Black, 58",
         "Road Bikes",
         539.99
        ],
        [
         997,
         "Road-750 Black, 44",
         "Road Bikes",
         539.99
        ],
        [
         998,
         "Road-750 Black, 48",
         "Road Bikes",
         539.99
        ],
        [
         999,
         "Road-750 Black, 52",
         "Road Bikes",
         539.99
        ],
        [
         789,
         "Road-250 Red, 44",
         "Road Bikes",
         2443.35
        ],
        [
         790,
         "Road-250 Red, 48",
         "Road Bikes",
         2443.35
        ],
        [
         791,
         "Road-250 Red, 52",
         "Road Bikes",
         2443.35
        ],
        [
         792,
         "Road-250 Red, 58",
         "Road Bikes",
         2443.35
        ],
        [
         793,
         "Road-250 Black, 44",
         "Road Bikes",
         2443.35
        ],
        [
         794,
         "Road-250 Black, 48",
         "Road Bikes",
         2443.35
        ],
        [
         795,
         "Road-250 Black, 52",
         "Road Bikes",
         2443.35
        ],
        [
         796,
         "Road-250 Black, 58",
         "Road Bikes",
         2443.35
        ],
        [
         797,
         "Road-550-W Yellow, 38",
         "Road Bikes",
         1120.49
        ],
        [
         798,
         "Road-550-W Yellow, 40",
         "Road Bikes",
         1120.49
        ],
        [
         799,
         "Road-550-W Yellow, 42",
         "Road Bikes",
         1120.49
        ],
        [
         800,
         "Road-550-W Yellow, 44",
         "Road Bikes",
         1120.49
        ],
        [
         801,
         "Road-550-W Yellow, 48",
         "Road Bikes",
         1120.49
        ],
        [
         749,
         "Road-150 Red, 62",
         "Road Bikes",
         3578.27
        ],
        [
         750,
         "Road-150 Red, 44",
         "Road Bikes",
         3578.27
        ],
        [
         751,
         "Road-150 Red, 48",
         "Road Bikes",
         3578.27
        ],
        [
         752,
         "Road-150 Red, 52",
         "Road Bikes",
         3578.27
        ],
        [
         753,
         "Road-150 Red, 56",
         "Road Bikes",
         3578.27
        ],
        [
         754,
         "Road-450 Red, 58",
         "Road Bikes",
         1457.99
        ],
        [
         755,
         "Road-450 Red, 60",
         "Road Bikes",
         1457.99
        ],
        [
         756,
         "Road-450 Red, 44",
         "Road Bikes",
         1457.99
        ],
        [
         757,
         "Road-450 Red, 48",
         "Road Bikes",
         1457.99
        ],
        [
         758,
         "Road-450 Red, 52",
         "Road Bikes",
         1457.99
        ],
        [
         759,
         "Road-650 Red, 58",
         "Road Bikes",
         782.99
        ],
        [
         760,
         "Road-650 Red, 60",
         "Road Bikes",
         782.99
        ],
        [
         761,
         "Road-650 Red, 62",
         "Road Bikes",
         782.99
        ],
        [
         762,
         "Road-650 Red, 44",
         "Road Bikes",
         782.99
        ],
        [
         763,
         "Road-650 Red, 48",
         "Road Bikes",
         782.99
        ],
        [
         764,
         "Road-650 Red, 52",
         "Road Bikes",
         782.99
        ],
        [
         765,
         "Road-650 Black, 58",
         "Road Bikes",
         782.99
        ],
        [
         766,
         "Road-650 Black, 60",
         "Road Bikes",
         782.99
        ],
        [
         767,
         "Road-650 Black, 62",
         "Road Bikes",
         782.99
        ],
        [
         768,
         "Road-650 Black, 44",
         "Road Bikes",
         782.99
        ],
        [
         769,
         "Road-650 Black, 48",
         "Road Bikes",
         782.99
        ],
        [
         770,
         "Road-650 Black, 52",
         "Road Bikes",
         782.99
        ],
        [
         978,
         "Touring-3000 Blue, 44",
         "Touring Bikes",
         742.35
        ],
        [
         979,
         "Touring-3000 Blue, 50",
         "Touring Bikes",
         742.35
        ],
        [
         953,
         "Touring-2000 Blue, 60",
         "Touring Bikes",
         1214.85
        ],
        [
         954,
         "Touring-1000 Yellow, 46",
         "Touring Bikes",
         2384.07
        ],
        [
         955,
         "Touring-1000 Yellow, 50",
         "Touring Bikes",
         2384.07
        ],
        [
         956,
         "Touring-1000 Yellow, 54",
         "Touring Bikes",
         2384.07
        ],
        [
         957,
         "Touring-1000 Yellow, 60",
         "Touring Bikes",
         2384.07
        ],
        [
         958,
         "Touring-3000 Blue, 54",
         "Touring Bikes",
         742.35
        ],
        [
         959,
         "Touring-3000 Blue, 58",
         "Touring Bikes",
         742.35
        ],
        [
         960,
         "Touring-3000 Blue, 62",
         "Touring Bikes",
         742.35
        ],
        [
         961,
         "Touring-3000 Yellow, 44",
         "Touring Bikes",
         742.35
        ],
        [
         962,
         "Touring-3000 Yellow, 50",
         "Touring Bikes",
         742.35
        ],
        [
         963,
         "Touring-3000 Yellow, 54",
         "Touring Bikes",
         742.35
        ],
        [
         964,
         "Touring-3000 Yellow, 58",
         "Touring Bikes",
         742.35
        ],
        [
         965,
         "Touring-3000 Yellow, 62",
         "Touring Bikes",
         742.35
        ],
        [
         966,
         "Touring-1000 Blue, 46",
         "Touring Bikes",
         2384.07
        ],
        [
         967,
         "Touring-1000 Blue, 50",
         "Touring Bikes",
         2384.07
        ],
        [
         968,
         "Touring-1000 Blue, 54",
         "Touring Bikes",
         2384.07
        ],
        [
         969,
         "Touring-1000 Blue, 60",
         "Touring Bikes",
         2384.07
        ],
        [
         970,
         "Touring-2000 Blue, 46",
         "Touring Bikes",
         1214.85
        ],
        [
         971,
         "Touring-2000 Blue, 50",
         "Touring Bikes",
         1214.85
        ],
        [
         972,
         "Touring-2000 Blue, 54",
         "Touring Bikes",
         1214.85
        ],
        [
         946,
         "LL Touring Handlebars",
         "Handlebars",
         46.09
        ],
        [
         947,
         "HL Touring Handlebars",
         "Handlebars",
         91.57
        ],
        [
         808,
         "LL Mountain Handlebars",
         "Handlebars",
         44.54
        ],
        [
         809,
         "ML Mountain Handlebars",
         "Handlebars",
         61.92
        ],
        [
         810,
         "HL Mountain Handlebars",
         "Handlebars",
         120.27
        ],
        [
         811,
         "LL Road Handlebars",
         "Handlebars",
         44.54
        ],
        [
         812,
         "ML Road Handlebars",
         "Handlebars",
         61.92
        ],
        [
         813,
         "HL Road Handlebars",
         "Handlebars",
         120.27
        ],
        [
         994,
         "LL Bottom Bracket",
         "Bottom Brackets",
         53.99
        ],
        [
         995,
         "ML Bottom Bracket",
         "Bottom Brackets",
         101.24
        ],
        [
         996,
         "HL Bottom Bracket",
         "Bottom Brackets",
         121.49
        ],
        [
         948,
         "Front Brakes",
         "Brakes",
         106.5
        ],
        [
         907,
         "Rear Brakes",
         "Brakes",
         106.5
        ],
        [
         952,
         "Chain",
         "Chains",
         20.24
        ],
        [
         949,
         "LL Crankset",
         "Cranksets",
         175.49
        ],
        [
         950,
         "ML Crankset",
         "Cranksets",
         256.49
        ],
        [
         951,
         "HL Crankset",
         "Cranksets",
         404.99
        ],
        [
         945,
         "Front Derailleur",
         "Derailleurs",
         91.49
        ],
        [
         894,
         "Rear Derailleur",
         "Derailleurs",
         121.46
        ],
        [
         802,
         "LL Fork",
         "Forks",
         148.22
        ],
        [
         803,
         "ML Fork",
         "Forks",
         175.49
        ],
        [
         804,
         "HL Fork",
         "Forks",
         229.49
        ],
        [
         805,
         "LL Headset",
         "Headsets",
         34.2
        ],
        [
         806,
         "ML Headset",
         "Headsets",
         102.29
        ],
        [
         807,
         "HL Headset",
         "Headsets",
         124.73
        ],
        [
         739,
         "HL Mountain Frame - Silver, 42",
         "Mountain Frames",
         1364.5
        ],
        [
         740,
         "HL Mountain Frame - Silver, 44",
         "Mountain Frames",
         1364.5
        ],
        [
         741,
         "HL Mountain Frame - Silver, 48",
         "Mountain Frames",
         1364.5
        ],
        [
         742,
         "HL Mountain Frame - Silver, 46",
         "Mountain Frames",
         1364.5
        ],
        [
         743,
         "HL Mountain Frame - Black, 42",
         "Mountain Frames",
         1349.6
        ],
        [
         744,
         "HL Mountain Frame - Black, 44",
         "Mountain Frames",
         1349.6
        ],
        [
         745,
         "HL Mountain Frame - Black, 48",
         "Mountain Frames",
         1349.6
        ],
        [
         746,
         "HL Mountain Frame - Black, 46",
         "Mountain Frames",
         1349.6
        ],
        [
         747,
         "HL Mountain Frame - Black, 38",
         "Mountain Frames",
         1349.6
        ],
        [
         748,
         "HL Mountain Frame - Silver, 38",
         "Mountain Frames",
         1364.5
        ],
        [
         814,
         "ML Mountain Frame - Black, 38",
         "Mountain Frames",
         348.76
        ],
        [
         830,
         "ML Mountain Frame - Black, 40",
         "Mountain Frames",
         348.76
        ],
        [
         831,
         "ML Mountain Frame - Black, 44",
         "Mountain Frames",
         348.76
        ],
        [
         832,
         "ML Mountain Frame - Black, 48",
         "Mountain Frames",
         348.76
        ],
        [
         924,
         "LL Mountain Frame - Black, 42",
         "Mountain Frames",
         249.79
        ],
        [
         925,
         "LL Mountain Frame - Black, 44",
         "Mountain Frames",
         249.79
        ],
        [
         926,
         "LL Mountain Frame - Black, 48",
         "Mountain Frames",
         249.79
        ],
        [
         927,
         "LL Mountain Frame - Black, 52",
         "Mountain Frames",
         249.79
        ],
        [
         917,
         "LL Mountain Frame - Silver, 42",
         "Mountain Frames",
         264.05
        ],
        [
         918,
         "LL Mountain Frame - Silver, 44",
         "Mountain Frames",
         264.05
        ],
        [
         919,
         "LL Mountain Frame - Silver, 48",
         "Mountain Frames",
         264.05
        ],
        [
         920,
         "LL Mountain Frame - Silver, 52",
         "Mountain Frames",
         264.05
        ],
        [
         904,
         "ML Mountain Frame-W - Silver, 40",
         "Mountain Frames",
         364.09
        ],
        [
         905,
         "ML Mountain Frame-W - Silver, 42",
         "Mountain Frames",
         364.09
        ],
        [
         906,
         "ML Mountain Frame-W - Silver, 46",
         "Mountain Frames",
         364.09
        ],
        [
         942,
         "ML Mountain Frame-W - Silver, 38",
         "Mountain Frames",
         364.09
        ],
        [
         943,
         "LL Mountain Frame - Black, 40",
         "Mountain Frames",
         249.79
        ],
        [
         944,
         "LL Mountain Frame - Silver, 40",
         "Mountain Frames",
         264.05
        ],
        [
         935,
         "LL Mountain Pedal",
         "Pedals",
         40.49
        ],
        [
         936,
         "ML Mountain Pedal",
         "Pedals",
         62.09
        ],
        [
         937,
         "HL Mountain Pedal",
         "Pedals",
         80.99
        ],
        [
         938,
         "LL Road Pedal",
         "Pedals",
         40.49
        ],
        [
         939,
         "ML Road Pedal",
         "Pedals",
         62.09
        ],
        [
         940,
         "HL Road Pedal",
         "Pedals",
         80.99
        ],
        [
         941,
         "Touring Pedal",
         "Pedals",
         80.99
        ],
        [
         833,
         "ML Road Frame-W - Yellow, 40",
         "Road Frames",
         594.83
        ],
        [
         834,
         "ML Road Frame-W - Yellow, 42",
         "Road Frames",
         594.83
        ],
        [
         835,
         "ML Road Frame-W - Yellow, 44",
         "Road Frames",
         594.83
        ],
        [
         836,
         "ML Road Frame-W - Yellow, 48",
         "Road Frames",
         594.83
        ],
        [
         837,
         "HL Road Frame - Black, 62",
         "Road Frames",
         1431.5
        ],
        [
         838,
         "HL Road Frame - Black, 44",
         "Road Frames",
         1431.5
        ],
        [
         839,
         "HL Road Frame - Black, 48",
         "Road Frames",
         1431.5
        ],
        [
         840,
         "HL Road Frame - Black, 52",
         "Road Frames",
         1431.5
        ],
        [
         822,
         "ML Road Frame-W - Yellow, 38",
         "Road Frames",
         594.83
        ],
        [
         680,
         "HL Road Frame - Black, 58",
         "Road Frames",
         1431.5
        ],
        [
         706,
         "HL Road Frame - Red, 58",
         "Road Frames",
         1431.5
        ],
        [
         717,
         "HL Road Frame - Red, 62",
         "Road Frames",
         1431.5
        ],
        [
         718,
         "HL Road Frame - Red, 44",
         "Road Frames",
         1431.5
        ],
        [
         719,
         "HL Road Frame - Red, 48",
         "Road Frames",
         1431.5
        ],
        [
         720,
         "HL Road Frame - Red, 52",
         "Road Frames",
         1431.5
        ],
        [
         721,
         "HL Road Frame - Red, 56",
         "Road Frames",
         1431.5
        ],
        [
         722,
         "LL Road Frame - Black, 58",
         "Road Frames",
         337.22
        ],
        [
         723,
         "LL Road Frame - Black, 60",
         "Road Frames",
         337.22
        ],
        [
         724,
         "LL Road Frame - Black, 62",
         "Road Frames",
         337.22
        ],
        [
         725,
         "LL Road Frame - Red, 44",
         "Road Frames",
         337.22
        ],
        [
         726,
         "LL Road Frame - Red, 48",
         "Road Frames",
         337.22
        ],
        [
         727,
         "LL Road Frame - Red, 52",
         "Road Frames",
         337.22
        ],
        [
         728,
         "LL Road Frame - Red, 58",
         "Road Frames",
         337.22
        ],
        [
         729,
         "LL Road Frame - Red, 60",
         "Road Frames",
         337.22
        ],
        [
         730,
         "LL Road Frame - Red, 62",
         "Road Frames",
         337.22
        ],
        [
         731,
         "ML Road Frame - Red, 44",
         "Road Frames",
         594.83
        ],
        [
         732,
         "ML Road Frame - Red, 48",
         "Road Frames",
         594.83
        ],
        [
         733,
         "ML Road Frame - Red, 52",
         "Road Frames",
         594.83
        ],
        [
         734,
         "ML Road Frame - Red, 58",
         "Road Frames",
         594.83
        ],
        [
         735,
         "ML Road Frame - Red, 60",
         "Road Frames",
         594.83
        ],
        [
         736,
         "LL Road Frame - Black, 44",
         "Road Frames",
         337.22
        ],
        [
         737,
         "LL Road Frame - Black, 48",
         "Road Frames",
         337.22
        ],
        [
         738,
         "LL Road Frame - Black, 52",
         "Road Frames",
         337.22
        ],
        [
         908,
         "LL Mountain Seat/Saddle",
         "Saddles",
         27.12
        ],
        [
         909,
         "ML Mountain Seat/Saddle",
         "Saddles",
         39.14
        ],
        [
         910,
         "HL Mountain Seat/Saddle",
         "Saddles",
         52.64
        ],
        [
         911,
         "LL Road Seat/Saddle",
         "Saddles",
         27.12
        ],
        [
         912,
         "ML Road Seat/Saddle",
         "Saddles",
         39.14
        ],
        [
         913,
         "HL Road Seat/Saddle",
         "Saddles",
         52.64
        ],
        [
         914,
         "LL Touring Seat/Saddle",
         "Saddles",
         27.12
        ],
        [
         915,
         "ML Touring Seat/Saddle",
         "Saddles",
         39.14
        ],
        [
         916,
         "HL Touring Seat/Saddle",
         "Saddles",
         52.64
        ],
        [
         895,
         "LL Touring Frame - Blue, 50",
         "Touring Frames",
         333.42
        ],
        [
         896,
         "LL Touring Frame - Blue, 54",
         "Touring Frames",
         333.42
        ],
        [
         897,
         "LL Touring Frame - Blue, 58",
         "Touring Frames",
         333.42
        ],
        [
         898,
         "LL Touring Frame - Blue, 62",
         "Touring Frames",
         333.42
        ],
        [
         899,
         "LL Touring Frame - Yellow, 44",
         "Touring Frames",
         333.42
        ],
        [
         900,
         "LL Touring Frame - Yellow, 50",
         "Touring Frames",
         333.42
        ],
        [
         901,
         "LL Touring Frame - Yellow, 54",
         "Touring Frames",
         333.42
        ],
        [
         902,
         "LL Touring Frame - Yellow, 58",
         "Touring Frames",
         333.42
        ],
        [
         903,
         "LL Touring Frame - Blue, 44",
         "Touring Frames",
         333.42
        ],
        [
         885,
         "HL Touring Frame - Yellow, 60",
         "Touring Frames",
         1003.91
        ],
        [
         886,
         "LL Touring Frame - Yellow, 62",
         "Touring Frames",
         333.42
        ],
        [
         887,
         "HL Touring Frame - Yellow, 46",
         "Touring Frames",
         1003.91
        ],
        [
         888,
         "HL Touring Frame - Yellow, 50",
         "Touring Frames",
         1003.91
        ],
        [
         889,
         "HL Touring Frame - Yellow, 54",
         "Touring Frames",
         1003.91
        ],
        [
         890,
         "HL Touring Frame - Blue, 46",
         "Touring Frames",
         1003.91
        ],
        [
         891,
         "HL Touring Frame - Blue, 50",
         "Touring Frames",
         1003.91
        ],
        [
         892,
         "HL Touring Frame - Blue, 54",
         "Touring Frames",
         1003.91
        ],
        [
         893,
         "HL Touring Frame - Blue, 60",
         "Touring Frames",
         1003.91
        ],
        [
         823,
         "LL Mountain Rear Wheel",
         "Wheels",
         87.745
        ],
        [
         824,
         "ML Mountain Rear Wheel",
         "Wheels",
         236.025
        ],
        [
         825,
         "HL Mountain Rear Wheel",
         "Wheels",
         327.215
        ],
        [
         826,
         "LL Road Rear Wheel",
         "Wheels",
         112.565
        ],
        [
         827,
         "ML Road Rear Wheel",
         "Wheels",
         275.385
        ],
        [
         828,
         "HL Road Rear Wheel",
         "Wheels",
         357.06
        ],
        [
         829,
         "Touring Rear Wheel",
         "Wheels",
         245.01
        ],
        [
         815,
         "LL Mountain Front Wheel",
         "Wheels",
         60.745
        ],
        [
         816,
         "ML Mountain Front Wheel",
         "Wheels",
         209.025
        ],
        [
         817,
         "HL Mountain Front Wheel",
         "Wheels",
         300.215
        ],
        [
         818,
         "LL Road Front Wheel",
         "Wheels",
         85.565
        ],
        [
         819,
         "ML Road Front Wheel",
         "Wheels",
         248.385
        ],
        [
         820,
         "HL Road Front Wheel",
         "Wheels",
         330.06
        ],
        [
         821,
         "Touring Front Wheel",
         "Wheels",
         218.01
        ],
        [
         855,
         "Men's Bib-Shorts, S",
         "Bib-Shorts",
         89.99
        ],
        [
         856,
         "Men's Bib-Shorts, M",
         "Bib-Shorts",
         89.99
        ],
        [
         857,
         "Men's Bib-Shorts, L",
         "Bib-Shorts",
         89.99
        ],
        [
         712,
         "AWC Logo Cap",
         "Caps",
         8.99
        ],
        [
         858,
         "Half-Finger Gloves, S",
         "Gloves",
         24.49
        ],
        [
         859,
         "Half-Finger Gloves, M",
         "Gloves",
         24.49
        ],
        [
         860,
         "Half-Finger Gloves, L",
         "Gloves",
         24.49
        ],
        [
         861,
         "Full-Finger Gloves, S",
         "Gloves",
         37.99
        ],
        [
         862,
         "Full-Finger Gloves, M",
         "Gloves",
         37.99
        ],
        [
         863,
         "Full-Finger Gloves, L",
         "Gloves",
         37.99
        ],
        [
         713,
         "Long-Sleeve Logo Jersey, S",
         "Jerseys",
         49.99
        ],
        [
         714,
         "Long-Sleeve Logo Jersey, M",
         "Jerseys",
         49.99
        ],
        [
         715,
         "Long-Sleeve Logo Jersey, L",
         "Jerseys",
         49.99
        ],
        [
         716,
         "Long-Sleeve Logo Jersey, XL",
         "Jerseys",
         49.99
        ],
        [
         881,
         "Short-Sleeve Classic Jersey, S",
         "Jerseys",
         53.99
        ],
        [
         882,
         "Short-Sleeve Classic Jersey, M",
         "Jerseys",
         53.99
        ],
        [
         883,
         "Short-Sleeve Classic Jersey, L",
         "Jerseys",
         53.99
        ],
        [
         884,
         "Short-Sleeve Classic Jersey, XL",
         "Jerseys",
         53.99
        ],
        [
         867,
         "Women's Mountain Shorts, S",
         "Shorts",
         69.99
        ],
        [
         868,
         "Women's Mountain Shorts, M",
         "Shorts",
         69.99
        ],
        [
         869,
         "Women's Mountain Shorts, L",
         "Shorts",
         69.99
        ],
        [
         841,
         "Men's Sports Shorts, S",
         "Shorts",
         59.99
        ],
        [
         849,
         "Men's Sports Shorts, M",
         "Shorts",
         59.99
        ],
        [
         850,
         "Men's Sports Shorts, L",
         "Shorts",
         59.99
        ],
        [
         851,
         "Men's Sports Shorts, XL",
         "Shorts",
         59.99
        ],
        [
         709,
         "Mountain Bike Socks, M",
         "Socks",
         9.5
        ],
        [
         710,
         "Mountain Bike Socks, L",
         "Socks",
         9.5
        ],
        [
         874,
         "Racing Socks, M",
         "Socks",
         8.99
        ],
        [
         875,
         "Racing Socks, L",
         "Socks",
         8.99
        ],
        [
         852,
         "Women's Tights, S",
         "Tights",
         74.99
        ],
        [
         853,
         "Women's Tights, M",
         "Tights",
         74.99
        ],
        [
         854,
         "Women's Tights, L",
         "Tights",
         74.99
        ],
        [
         864,
         "Classic Vest, S",
         "Vests",
         63.5
        ],
        [
         865,
         "Classic Vest, M",
         "Vests",
         63.5
        ],
        [
         866,
         "Classic Vest, L",
         "Vests",
         63.5
        ],
        [
         876,
         "Hitch Rack - 4-Bike",
         "Bike Racks",
         120.0
        ],
        [
         879,
         "All-Purpose Bike Stand",
         "Bike Stands",
         159.0
        ],
        [
         870,
         "Water Bottle - 30 oz.",
         "Bottles and Cages",
         4.99
        ],
        [
         871,
         "Mountain Bottle Cage",
         "Bottles and Cages",
         9.99
        ],
        [
         872,
         "Road Bottle Cage",
         "Bottles and Cages",
         8.99
        ],
        [
         877,
         "Bike Wash - Dissolver",
         "Cleaners",
         7.95
        ],
        [
         878,
         "Fender Set - Mountain",
         "Fenders",
         21.98
        ],
        [
         711,
         "Sport-100 Helmet, Blue",
         "Helmets",
         34.99
        ],
        [
         707,
         "Sport-100 Helmet, Red",
         "Helmets",
         34.99
        ],
        [
         708,
         "Sport-100 Helmet, Black",
         "Helmets",
         34.99
        ],
        [
         880,
         "Hydration Pack - 70 oz.",
         "Hydration Packs",
         54.99
        ],
        [
         846,
         "Taillights - Battery-Powered",
         "Lights",
         13.99
        ],
        [
         847,
         "Headlights - Dual-Beam",
         "Lights",
         34.99
        ],
        [
         848,
         "Headlights - Weatherproof",
         "Lights",
         44.99
        ],
        [
         843,
         "Cable Lock",
         "Locks",
         25.0
        ],
        [
         842,
         "Touring-Panniers, Large",
         "Panniers",
         125.0
        ],
        [
         844,
         "Minipump",
         "Pumps",
         19.99
        ],
        [
         845,
         "Mountain Pump",
         "Pumps",
         24.99
        ],
        [
         873,
         "Patch Kit/8 Patches",
         "Tires and Tubes",
         2.29
        ],
        [
         921,
         "Mountain Tire Tube",
         "Tires and Tubes",
         4.99
        ],
        [
         922,
         "Road Tire Tube",
         "Tires and Tubes",
         3.99
        ],
        [
         923,
         "Touring Tire Tube",
         "Tires and Tubes",
         4.99
        ],
        [
         928,
         "LL Mountain Tire",
         "Tires and Tubes",
         24.99
        ],
        [
         929,
         "ML Mountain Tire",
         "Tires and Tubes",
         29.99
        ],
        [
         930,
         "HL Mountain Tire",
         "Tires and Tubes",
         35.0
        ],
        [
         931,
         "LL Road Tire",
         "Tires and Tubes",
         21.49
        ],
        [
         932,
         "ML Road Tire",
         "Tires and Tubes",
         24.99
        ],
        [
         933,
         "HL Road Tire",
         "Tires and Tubes",
         32.6
        ],
        [
         934,
         "Touring Tire",
         "Tires and Tubes",
         28.99
        ]
       ],
       "datasetInfos": [],
       "dbfsResultPath": null,
       "isJsonSchema": true,
       "metadata": {
        "createTempViewForImplicitDf": true,
        "dataframeName": "_sqldf",
        "executionCount": 1
       },
       "overflow": false,
       "plotOptions": {
        "customPlotOptions": {},
        "displayType": "table",
        "pivotAggregation": null,
        "pivotColumns": null,
        "xColumns": null,
        "yColumns": null
       },
       "removedWidgets": [],
       "schema": [
        {
         "metadata": "{}",
         "name": "ProductID",
         "type": "\"long\""
        },
        {
         "metadata": "{}",
         "name": "ProductName",
         "type": "\"string\""
        },
        {
         "metadata": "{}",
         "name": "Category",
         "type": "\"string\""
        },
        {
         "metadata": "{}",
         "name": "ListPrice",
         "type": "\"double\""
        }
       ],
       "type": "table"
      }
     },
     "output_type": "display_data"
    },
    {
     "output_type": "display_data",
     "data": {
      "text/plain": [
       "Databricks visualization. Run in Databricks to view."
      ]
     },
     "metadata": {
      "application/vnd.databricks.v1.subcommand+json": {
       "baseErrorDetails": null,
       "bindings": {},
       "collapsed": false,
       "command": "%sql WITH q AS (SELECT * FROM `hive_metastore`.`default`.`products`) SELECT `Category`,COUNT(`ProductID`) `column_5aa0c30b42` FROM q GROUP BY `Category`",
       "commandTitle": "Visualization 1",
       "commandType": "auto",
       "commandVersion": 0,
       "commentThread": [],
       "commentsVisible": false,
       "contentSha256Hex": null,
       "customPlotOptions": {
        "redashChart": [
         {
          "key": "type",
          "value": "CHART"
         },
         {
          "key": "options",
          "value": {
           "alignYAxesAtZero": true,
           "coefficient": 1,
           "columnConfigurationMap": {
            "x": {
             "column": "Category",
             "id": "column_5aa0c30b40"
            },
            "y": [
             {
              "column": "ProductID",
              "id": "column_5aa0c30b42",
              "transform": "COUNT"
             }
            ]
           },
           "dateTimeFormat": "DD/MM/YYYY HH:mm",
           "direction": {
            "type": "counterclockwise"
           },
           "error_y": {
            "type": "data",
            "visible": true
           },
           "globalSeriesType": "column",
           "isAggregationOn": true,
           "legend": {
            "traceorder": "normal"
           },
           "missingValuesAsZero": true,
           "numberFormat": "0,0.[00000]",
           "percentFormat": "0[.]00%",
           "series": {
            "error_y": {
             "type": "data",
             "visible": true
            },
            "stacking": null
           },
           "seriesOptions": {
            "column_5aa0c30b42": {
             "type": "column",
             "yAxis": 0
            }
           },
           "showDataLabels": false,
           "sizemode": "diameter",
           "sortX": true,
           "sortY": true,
           "swappedAxes": false,
           "textFormat": "",
           "useAggregationsUi": true,
           "valuesOptions": {},
           "version": 2,
           "xAxis": {
            "labels": {
             "enabled": true
            },
            "type": "-"
           },
           "yAxis": [
            {
             "type": "-"
            },
            {
             "opposite": true,
             "type": "-"
            }
           ]
          }
         }
        ]
       },
       "datasetPreviewNameToCmdIdMap": {},
       "diffDeletes": [],
       "diffInserts": [],
       "displayType": "redashChart",
       "error": null,
       "errorDetails": null,
       "errorSummary": null,
       "errorTraceType": null,
       "finishTime": 0,
       "globalVars": {},
       "guid": "",
       "height": "auto",
       "hideCommandCode": false,
       "hideCommandResult": false,
       "iPythonMetadata": null,
       "inputWidgets": {},
       "isLockedInExamMode": false,
       "latestUser": "a user",
       "latestUserId": null,
       "listResultMetadata": null,
       "metadata": {},
       "nuid": "bedfc1be-395b-4812-bfdd-77249929f252",
       "origId": 0,
       "parentHierarchy": [],
       "pivotAggregation": null,
       "pivotColumns": null,
       "position": 2.0,
       "resultDbfsErrorMessage": null,
       "resultDbfsStatus": "INLINED_IN_TREE",
       "results": null,
       "showCommandTitle": false,
       "startTime": 0,
       "state": "input",
       "streamStates": {},
       "subcommandOptions": {
        "queryPlan": {
         "groups": [
          {
           "column": "Category",
           "type": "column"
          }
         ],
         "selects": [
          {
           "column": "Category",
           "type": "column"
          },
          {
           "alias": "column_5aa0c30b42",
           "args": [
            {
             "column": "ProductID",
             "type": "column"
            }
           ],
           "function": "COUNT",
           "type": "function"
          }
         ]
        }
       },
       "submitTime": 0,
       "subtype": "tableResultSubCmd.visualization",
       "tableResultIndex": 0,
       "tableResultSettingsMap": {},
       "useConsistentColors": false,
       "version": "CommandV1",
       "width": "auto",
       "workflows": [],
       "xColumns": null,
       "yColumns": null
      }
     },
     "output_type": "display_data"
    }
   ],
   "source": [
    "%sql\n",
    "SELECT * FROM `hive_metastore`.`default`.`products`;"
   ]
  },
  {
   "cell_type": "code",
   "execution_count": 0,
   "metadata": {
    "application/vnd.databricks.v1+cell": {
     "cellMetadata": {
      "byteLimit": 2048000,
      "rowLimit": 10000
     },
     "inputWidgets": {},
     "nuid": "2edd7aea-e594-4cf4-8add-2f9dc12ef05d",
     "showTitle": false,
     "tableResultSettingsMap": {},
     "title": ""
    }
   },
   "outputs": [
    {
     "output_type": "display_data",
     "data": {
      "text/html": [
       "<style scoped>\n",
       "  .table-result-container {\n",
       "    max-height: 300px;\n",
       "    overflow: auto;\n",
       "  }\n",
       "  table, th, td {\n",
       "    border: 1px solid black;\n",
       "    border-collapse: collapse;\n",
       "  }\n",
       "  th, td {\n",
       "    padding: 5px;\n",
       "  }\n",
       "  th {\n",
       "    text-align: left;\n",
       "  }\n",
       "</style><div class='table-result-container'><table class='table-result'><thead style='background-color: white'><tr><th>ProductID</th><th>ProductName</th><th>Category</th><th>ListPrice</th></tr></thead><tbody><tr><td>973</td><td>Road-350-W Yellow, 40</td><td>Road Bikes</td><td>1700.99</td></tr><tr><td>974</td><td>Road-350-W Yellow, 42</td><td>Road Bikes</td><td>1700.99</td></tr><tr><td>975</td><td>Road-350-W Yellow, 44</td><td>Road Bikes</td><td>1700.99</td></tr><tr><td>976</td><td>Road-350-W Yellow, 48</td><td>Road Bikes</td><td>1700.99</td></tr><tr><td>977</td><td>Road-750 Black, 58</td><td>Road Bikes</td><td>539.99</td></tr><tr><td>997</td><td>Road-750 Black, 44</td><td>Road Bikes</td><td>539.99</td></tr><tr><td>998</td><td>Road-750 Black, 48</td><td>Road Bikes</td><td>539.99</td></tr><tr><td>999</td><td>Road-750 Black, 52</td><td>Road Bikes</td><td>539.99</td></tr><tr><td>789</td><td>Road-250 Red, 44</td><td>Road Bikes</td><td>2443.35</td></tr><tr><td>790</td><td>Road-250 Red, 48</td><td>Road Bikes</td><td>2443.35</td></tr><tr><td>791</td><td>Road-250 Red, 52</td><td>Road Bikes</td><td>2443.35</td></tr><tr><td>792</td><td>Road-250 Red, 58</td><td>Road Bikes</td><td>2443.35</td></tr><tr><td>793</td><td>Road-250 Black, 44</td><td>Road Bikes</td><td>2443.35</td></tr><tr><td>794</td><td>Road-250 Black, 48</td><td>Road Bikes</td><td>2443.35</td></tr><tr><td>795</td><td>Road-250 Black, 52</td><td>Road Bikes</td><td>2443.35</td></tr><tr><td>796</td><td>Road-250 Black, 58</td><td>Road Bikes</td><td>2443.35</td></tr><tr><td>797</td><td>Road-550-W Yellow, 38</td><td>Road Bikes</td><td>1120.49</td></tr><tr><td>798</td><td>Road-550-W Yellow, 40</td><td>Road Bikes</td><td>1120.49</td></tr><tr><td>799</td><td>Road-550-W Yellow, 42</td><td>Road Bikes</td><td>1120.49</td></tr><tr><td>800</td><td>Road-550-W Yellow, 44</td><td>Road Bikes</td><td>1120.49</td></tr><tr><td>801</td><td>Road-550-W Yellow, 48</td><td>Road Bikes</td><td>1120.49</td></tr><tr><td>749</td><td>Road-150 Red, 62</td><td>Road Bikes</td><td>3578.27</td></tr><tr><td>750</td><td>Road-150 Red, 44</td><td>Road Bikes</td><td>3578.27</td></tr><tr><td>751</td><td>Road-150 Red, 48</td><td>Road Bikes</td><td>3578.27</td></tr><tr><td>752</td><td>Road-150 Red, 52</td><td>Road Bikes</td><td>3578.27</td></tr><tr><td>753</td><td>Road-150 Red, 56</td><td>Road Bikes</td><td>3578.27</td></tr><tr><td>754</td><td>Road-450 Red, 58</td><td>Road Bikes</td><td>1457.99</td></tr><tr><td>755</td><td>Road-450 Red, 60</td><td>Road Bikes</td><td>1457.99</td></tr><tr><td>756</td><td>Road-450 Red, 44</td><td>Road Bikes</td><td>1457.99</td></tr><tr><td>757</td><td>Road-450 Red, 48</td><td>Road Bikes</td><td>1457.99</td></tr><tr><td>758</td><td>Road-450 Red, 52</td><td>Road Bikes</td><td>1457.99</td></tr><tr><td>759</td><td>Road-650 Red, 58</td><td>Road Bikes</td><td>782.99</td></tr><tr><td>760</td><td>Road-650 Red, 60</td><td>Road Bikes</td><td>782.99</td></tr><tr><td>761</td><td>Road-650 Red, 62</td><td>Road Bikes</td><td>782.99</td></tr><tr><td>762</td><td>Road-650 Red, 44</td><td>Road Bikes</td><td>782.99</td></tr><tr><td>763</td><td>Road-650 Red, 48</td><td>Road Bikes</td><td>782.99</td></tr><tr><td>764</td><td>Road-650 Red, 52</td><td>Road Bikes</td><td>782.99</td></tr><tr><td>765</td><td>Road-650 Black, 58</td><td>Road Bikes</td><td>782.99</td></tr><tr><td>766</td><td>Road-650 Black, 60</td><td>Road Bikes</td><td>782.99</td></tr><tr><td>767</td><td>Road-650 Black, 62</td><td>Road Bikes</td><td>782.99</td></tr><tr><td>768</td><td>Road-650 Black, 44</td><td>Road Bikes</td><td>782.99</td></tr><tr><td>769</td><td>Road-650 Black, 48</td><td>Road Bikes</td><td>782.99</td></tr><tr><td>770</td><td>Road-650 Black, 52</td><td>Road Bikes</td><td>782.99</td></tr></tbody></table></div>"
      ]
     },
     "metadata": {
      "application/vnd.databricks.v1+output": {
       "addedWidgets": {},
       "aggData": [],
       "aggError": "",
       "aggOverflow": false,
       "aggSchema": [],
       "aggSeriesLimitReached": false,
       "aggType": "",
       "arguments": {},
       "columnCustomDisplayInfos": {},
       "data": [
        [
         973,
         "Road-350-W Yellow, 40",
         "Road Bikes",
         1700.99
        ],
        [
         974,
         "Road-350-W Yellow, 42",
         "Road Bikes",
         1700.99
        ],
        [
         975,
         "Road-350-W Yellow, 44",
         "Road Bikes",
         1700.99
        ],
        [
         976,
         "Road-350-W Yellow, 48",
         "Road Bikes",
         1700.99
        ],
        [
         977,
         "Road-750 Black, 58",
         "Road Bikes",
         539.99
        ],
        [
         997,
         "Road-750 Black, 44",
         "Road Bikes",
         539.99
        ],
        [
         998,
         "Road-750 Black, 48",
         "Road Bikes",
         539.99
        ],
        [
         999,
         "Road-750 Black, 52",
         "Road Bikes",
         539.99
        ],
        [
         789,
         "Road-250 Red, 44",
         "Road Bikes",
         2443.35
        ],
        [
         790,
         "Road-250 Red, 48",
         "Road Bikes",
         2443.35
        ],
        [
         791,
         "Road-250 Red, 52",
         "Road Bikes",
         2443.35
        ],
        [
         792,
         "Road-250 Red, 58",
         "Road Bikes",
         2443.35
        ],
        [
         793,
         "Road-250 Black, 44",
         "Road Bikes",
         2443.35
        ],
        [
         794,
         "Road-250 Black, 48",
         "Road Bikes",
         2443.35
        ],
        [
         795,
         "Road-250 Black, 52",
         "Road Bikes",
         2443.35
        ],
        [
         796,
         "Road-250 Black, 58",
         "Road Bikes",
         2443.35
        ],
        [
         797,
         "Road-550-W Yellow, 38",
         "Road Bikes",
         1120.49
        ],
        [
         798,
         "Road-550-W Yellow, 40",
         "Road Bikes",
         1120.49
        ],
        [
         799,
         "Road-550-W Yellow, 42",
         "Road Bikes",
         1120.49
        ],
        [
         800,
         "Road-550-W Yellow, 44",
         "Road Bikes",
         1120.49
        ],
        [
         801,
         "Road-550-W Yellow, 48",
         "Road Bikes",
         1120.49
        ],
        [
         749,
         "Road-150 Red, 62",
         "Road Bikes",
         3578.27
        ],
        [
         750,
         "Road-150 Red, 44",
         "Road Bikes",
         3578.27
        ],
        [
         751,
         "Road-150 Red, 48",
         "Road Bikes",
         3578.27
        ],
        [
         752,
         "Road-150 Red, 52",
         "Road Bikes",
         3578.27
        ],
        [
         753,
         "Road-150 Red, 56",
         "Road Bikes",
         3578.27
        ],
        [
         754,
         "Road-450 Red, 58",
         "Road Bikes",
         1457.99
        ],
        [
         755,
         "Road-450 Red, 60",
         "Road Bikes",
         1457.99
        ],
        [
         756,
         "Road-450 Red, 44",
         "Road Bikes",
         1457.99
        ],
        [
         757,
         "Road-450 Red, 48",
         "Road Bikes",
         1457.99
        ],
        [
         758,
         "Road-450 Red, 52",
         "Road Bikes",
         1457.99
        ],
        [
         759,
         "Road-650 Red, 58",
         "Road Bikes",
         782.99
        ],
        [
         760,
         "Road-650 Red, 60",
         "Road Bikes",
         782.99
        ],
        [
         761,
         "Road-650 Red, 62",
         "Road Bikes",
         782.99
        ],
        [
         762,
         "Road-650 Red, 44",
         "Road Bikes",
         782.99
        ],
        [
         763,
         "Road-650 Red, 48",
         "Road Bikes",
         782.99
        ],
        [
         764,
         "Road-650 Red, 52",
         "Road Bikes",
         782.99
        ],
        [
         765,
         "Road-650 Black, 58",
         "Road Bikes",
         782.99
        ],
        [
         766,
         "Road-650 Black, 60",
         "Road Bikes",
         782.99
        ],
        [
         767,
         "Road-650 Black, 62",
         "Road Bikes",
         782.99
        ],
        [
         768,
         "Road-650 Black, 44",
         "Road Bikes",
         782.99
        ],
        [
         769,
         "Road-650 Black, 48",
         "Road Bikes",
         782.99
        ],
        [
         770,
         "Road-650 Black, 52",
         "Road Bikes",
         782.99
        ]
       ],
       "datasetInfos": [],
       "dbfsResultPath": null,
       "isJsonSchema": true,
       "metadata": {},
       "overflow": false,
       "plotOptions": {
        "customPlotOptions": {},
        "displayType": "table",
        "pivotAggregation": null,
        "pivotColumns": null,
        "xColumns": null,
        "yColumns": null
       },
       "removedWidgets": [],
       "schema": [
        {
         "metadata": "{}",
         "name": "ProductID",
         "type": "\"long\""
        },
        {
         "metadata": "{}",
         "name": "ProductName",
         "type": "\"string\""
        },
        {
         "metadata": "{}",
         "name": "Category",
         "type": "\"string\""
        },
        {
         "metadata": "{}",
         "name": "ListPrice",
         "type": "\"double\""
        }
       ],
       "type": "table"
      }
     },
     "output_type": "display_data"
    }
   ],
   "source": [
    " df = spark.sql(\"SELECT * FROM products\")\n",
    " df = df.filter(\"Category == 'Road Bikes'\")\n",
    " display(df)"
   ]
  },
  {
   "cell_type": "code",
   "execution_count": 0,
   "metadata": {
    "application/vnd.databricks.v1+cell": {
     "cellMetadata": {
      "byteLimit": 2048000,
      "rowLimit": 10000
     },
     "inputWidgets": {},
     "nuid": "e625ab78-cb3b-42d3-9c0c-51aa4eff6df2",
     "showTitle": false,
     "tableResultSettingsMap": {},
     "title": ""
    }
   },
   "outputs": [
    {
     "output_type": "display_data",
     "data": {
      "image/png": "[encoded data removed]",
      "text/plain": [
       "<Figure size 1000x500 with 1 Axes>"
      ]
     },
     "metadata": {},
     "output_type": "display_data"
    }
   ],
   "source": [
    "import matplotlib.pyplot as plt\n",
    "\n",
    "# Query products and sort by highest ListPrice\n",
    "df = spark.sql(\"SELECT * FROM products\")\n",
    "df = df.orderBy(df.ListPrice.desc()).limit(10)\n",
    "\n",
    "# Convert to Pandas for visualization\n",
    "pdf = df.toPandas()\n",
    "\n",
    "# Plot bar chart\n",
    "plt.figure(figsize=(10, 5))\n",
    "plt.barh(pdf[\"ProductName\"], pdf[\"ListPrice\"], color=\"skyblue\")\n",
    "plt.xlabel(\"List Price\")\n",
    "plt.ylabel(\"Product Name\")\n",
    "plt.title(\"Top 10 Products by List Price\")\n",
    "plt.gca().invert_yaxis()\n",
    "plt.show()"
   ]
  },
  {
   "cell_type": "code",
   "execution_count": 0,
   "metadata": {
    "application/vnd.databricks.v1+cell": {
     "cellMetadata": {
      "byteLimit": 2048000,
      "rowLimit": 10000
     },
     "inputWidgets": {},
     "nuid": "0dcd1157-189b-4fb2-924c-410c96b725f9",
     "showTitle": false,
     "tableResultSettingsMap": {},
     "title": ""
    }
   },
   "outputs": [
    {
     "output_type": "display_data",
     "data": {
      "text/html": [
       "<style scoped>\n",
       "  .table-result-container {\n",
       "    max-height: 300px;\n",
       "    overflow: auto;\n",
       "  }\n",
       "  table, th, td {\n",
       "    border: 1px solid black;\n",
       "    border-collapse: collapse;\n",
       "  }\n",
       "  th, td {\n",
       "    padding: 5px;\n",
       "  }\n",
       "  th {\n",
       "    text-align: left;\n",
       "  }\n",
       "</style><div class='table-result-container'><table class='table-result'><thead style='background-color: white'><tr><th>ProductID</th><th>ProductName</th><th>Category</th><th>ListPrice</th></tr></thead><tbody><tr><td>749</td><td>Road-150 Red, 62</td><td>Road Bikes</td><td>3578.27</td></tr><tr><td>751</td><td>Road-150 Red, 48</td><td>Road Bikes</td><td>3578.27</td></tr><tr><td>752</td><td>Road-150 Red, 52</td><td>Road Bikes</td><td>3578.27</td></tr><tr><td>753</td><td>Road-150 Red, 56</td><td>Road Bikes</td><td>3578.27</td></tr><tr><td>750</td><td>Road-150 Red, 44</td><td>Road Bikes</td><td>3578.27</td></tr><tr><td>772</td><td>Mountain-100 Silver, 42</td><td>Mountain Bikes</td><td>3399.99</td></tr><tr><td>771</td><td>Mountain-100 Silver, 38</td><td>Mountain Bikes</td><td>3399.99</td></tr><tr><td>774</td><td>Mountain-100 Silver, 48</td><td>Mountain Bikes</td><td>3399.99</td></tr><tr><td>773</td><td>Mountain-100 Silver, 44</td><td>Mountain Bikes</td><td>3399.99</td></tr><tr><td>775</td><td>Mountain-100 Black, 38</td><td>Mountain Bikes</td><td>3374.99</td></tr></tbody></table></div>"
      ]
     },
     "metadata": {
      "application/vnd.databricks.v1+output": {
       "addedWidgets": {},
       "aggData": [],
       "aggError": "",
       "aggOverflow": false,
       "aggSchema": [],
       "aggSeriesLimitReached": false,
       "aggType": "",
       "arguments": {},
       "columnCustomDisplayInfos": {},
       "data": [
        [
         749,
         "Road-150 Red, 62",
         "Road Bikes",
         3578.27
        ],
        [
         751,
         "Road-150 Red, 48",
         "Road Bikes",
         3578.27
        ],
        [
         752,
         "Road-150 Red, 52",
         "Road Bikes",
         3578.27
        ],
        [
         753,
         "Road-150 Red, 56",
         "Road Bikes",
         3578.27
        ],
        [
         750,
         "Road-150 Red, 44",
         "Road Bikes",
         3578.27
        ],
        [
         772,
         "Mountain-100 Silver, 42",
         "Mountain Bikes",
         3399.99
        ],
        [
         771,
         "Mountain-100 Silver, 38",
         "Mountain Bikes",
         3399.99
        ],
        [
         774,
         "Mountain-100 Silver, 48",
         "Mountain Bikes",
         3399.99
        ],
        [
         773,
         "Mountain-100 Silver, 44",
         "Mountain Bikes",
         3399.99
        ],
        [
         775,
         "Mountain-100 Black, 38",
         "Mountain Bikes",
         3374.99
        ]
       ],
       "datasetInfos": [],
       "dbfsResultPath": null,
       "isJsonSchema": true,
       "metadata": {},
       "overflow": false,
       "plotOptions": {
        "customPlotOptions": {},
        "displayType": "table",
        "pivotAggregation": null,
        "pivotColumns": null,
        "xColumns": null,
        "yColumns": null
       },
       "removedWidgets": [],
       "schema": [
        {
         "metadata": "{}",
         "name": "ProductID",
         "type": "\"long\""
        },
        {
         "metadata": "{}",
         "name": "ProductName",
         "type": "\"string\""
        },
        {
         "metadata": "{}",
         "name": "Category",
         "type": "\"string\""
        },
        {
         "metadata": "{}",
         "name": "ListPrice",
         "type": "\"double\""
        }
       ],
       "type": "table"
      }
     },
     "output_type": "display_data"
    },
    {
     "output_type": "display_data",
     "data": {
      "text/plain": [
       "Databricks visualization. Run in Databricks to view."
      ]
     },
     "metadata": {
      "application/vnd.databricks.v1.subcommand+json": {
       "baseErrorDetails": null,
       "bindings": {},
       "collapsed": false,
       "command": "%python\n__backend_agg_display_orig = display\n__backend_agg_dfs = []\ndef __backend_agg_display_new(df):\n    __backend_agg_df_modules = [\"pandas.core.frame\", \"databricks.koalas.frame\", \"pyspark.sql.dataframe\", \"pyspark.pandas.frame\", \"pyspark.sql.connect.dataframe\"]\n    if (type(df).__module__ in __backend_agg_df_modules and type(df).__name__ == 'DataFrame') or isinstance(df, list):\n        __backend_agg_dfs.append(df)\n\ndisplay = __backend_agg_display_new\n\ndef __backend_agg_user_code_fn():\n    import base64\n    exec(base64.standard_b64decode(\"IyBRdWVyeSBwcm9kdWN0cyBhbmQgc29ydCBieSBoaWdoZXN0IExpc3RQcmljZQpkZiA9IHNwYXJrLnNxbCgiU0VMRUNUICogRlJPTSBwcm9kdWN0cyIpCmRmID0gZGYub3JkZXJCeShkZi5MaXN0UHJpY2UuZGVzYygpKS5saW1pdCgxMCkKZGlzcGxheShkZik=\").decode())\n\ntry:\n    # run user code\n    __backend_agg_user_code_fn()\n\n    #reset display function\n    display = __backend_agg_display_orig\n\n    if len(__backend_agg_dfs) > 0:\n        # create a temp view\n        if type(__backend_agg_dfs[0]).__module__ == \"databricks.koalas.frame\":\n            # koalas dataframe\n            __backend_agg_dfs[0].to_spark().createOrReplaceTempView(\"DatabricksView934b7c3\")\n        elif type(__backend_agg_dfs[0]).__module__ == \"pandas.core.frame\" or isinstance(__backend_agg_dfs[0], list):\n            # pandas dataframe\n            spark.createDataFrame(__backend_agg_dfs[0]).createOrReplaceTempView(\"DatabricksView934b7c3\")\n        else:\n            __backend_agg_dfs[0].createOrReplaceTempView(\"DatabricksView934b7c3\")\n        #run backend agg\n        display(spark.sql(\"\"\"WITH q AS (select * from DatabricksView934b7c3) SELECT `ProductName`,MAX(`ListPrice`) `column_5aa0c30b112` FROM q GROUP BY `ProductName`\"\"\"))\n    else:\n        displayHTML(\"dataframe no longer exists. If you're using dataframe.display(), use display(dataframe) instead.\")\n\n\nfinally:\n    spark.sql(\"drop view if exists DatabricksView934b7c3\")\n    display = __backend_agg_display_orig\n    del __backend_agg_display_new\n    del __backend_agg_display_orig\n    del __backend_agg_dfs\n    del __backend_agg_user_code_fn\n\n",
       "commandTitle": "Visualization 1",
       "commandType": "auto",
       "commandVersion": 0,
       "commentThread": [],
       "commentsVisible": false,
       "contentSha256Hex": null,
       "customPlotOptions": {
        "redashChart": [
         {
          "key": "type",
          "value": "CHART"
         },
         {
          "key": "options",
          "value": {
           "alignYAxesAtZero": true,
           "coefficient": 1,
           "columnConfigurationMap": {
            "x": {
             "column": "ProductName",
             "id": "column_5aa0c30b110"
            },
            "y": [
             {
              "column": "ListPrice",
              "id": "column_5aa0c30b112",
              "transform": "MAX"
             }
            ]
           },
           "dateTimeFormat": "DD/MM/YYYY HH:mm",
           "direction": {
            "type": "counterclockwise"
           },
           "error_y": {
            "type": "data",
            "visible": true
           },
           "globalSeriesType": "pie",
           "isAggregationOn": true,
           "legend": {
            "traceorder": "normal"
           },
           "missingValuesAsZero": true,
           "numBins": 10,
           "numberFormat": "0,0.[00000]",
           "percentFormat": "0[.]00%",
           "series": {
            "error_y": {
             "type": "data",
             "visible": true
            },
            "stacking": null
           },
           "seriesOptions": {
            "ListPrice": {
             "type": "pie",
             "yAxis": 0
            },
            "column_5aa0c30b112": {
             "type": "pie",
             "yAxis": 0
            }
           },
           "showDataLabels": true,
           "sizemode": "diameter",
           "sortX": true,
           "sortY": true,
           "swappedAxes": false,
           "textFormat": "",
           "useAggregationsUi": true,
           "valuesOptions": {},
           "version": 2,
           "xAxis": {
            "labels": {
             "enabled": true
            },
            "type": "-"
           },
           "yAxis": [
            {
             "type": "-"
            },
            {
             "opposite": true,
             "type": "-"
            }
           ]
          }
         }
        ]
       },
       "datasetPreviewNameToCmdIdMap": {},
       "diffDeletes": [],
       "diffInserts": [],
       "displayType": "redashChart",
       "error": null,
       "errorDetails": null,
       "errorSummary": null,
       "errorTraceType": null,
       "finishTime": 0,
       "globalVars": {},
       "guid": "",
       "height": "auto",
       "hideCommandCode": false,
       "hideCommandResult": false,
       "iPythonMetadata": null,
       "inputWidgets": {},
       "isLockedInExamMode": false,
       "latestUser": "a user",
       "latestUserId": null,
       "listResultMetadata": null,
       "metadata": {},
       "nuid": "893b9414-3a0e-43c1-b258-131b1ebbd794",
       "origId": 0,
       "parentHierarchy": [],
       "pivotAggregation": null,
       "pivotColumns": null,
       "position": 5.0,
       "resultDbfsErrorMessage": null,
       "resultDbfsStatus": "INLINED_IN_TREE",
       "results": null,
       "showCommandTitle": false,
       "startTime": 0,
       "state": "input",
       "streamStates": {},
       "subcommandOptions": {
        "queryPlan": {
         "groups": [
          {
           "column": "ProductName",
           "type": "column"
          }
         ],
         "selects": [
          {
           "column": "ProductName",
           "type": "column"
          },
          {
           "alias": "column_5aa0c30b112",
           "args": [
            {
             "column": "ListPrice",
             "type": "column"
            }
           ],
           "function": "MAX",
           "type": "function"
          }
         ]
        }
       },
       "submitTime": 0,
       "subtype": "tableResultSubCmd.visualization",
       "tableResultIndex": 0,
       "tableResultSettingsMap": {},
       "useConsistentColors": false,
       "version": "CommandV1",
       "width": "auto",
       "workflows": [],
       "xColumns": null,
       "yColumns": null
      }
     },
     "output_type": "display_data"
    }
   ],
   "source": [
    "# Query products and sort by highest ListPrice\n",
    "df = spark.sql(\"SELECT * FROM products\")\n",
    "df = df.orderBy(df.ListPrice.desc()).limit(10)\n",
    "display(df)"
   ]
  }
 ],
 "metadata": {
  "application/vnd.databricks.v1+notebook": {
   "computePreferences": null,
   "dashboards": [],
   "environmentMetadata": null,
   "inputWidgetPreferences": null,
   "language": "python",
   "notebookMetadata": {
    "mostRecentlyExecutedCommandWithImplicitDF": {
     "commandId": 33959225881076,
     "dataframes": [
      "_sqldf"
     ]
    },
    "pythonIndentUnit": 2
   },
   "notebookName": "Explore hive_metastore.default.products 2025-04-22 14:28:14",
   "widgets": {}
  },
  "language_info": {
   "name": "python"
  }
 },
 "nbformat": 4,
 "nbformat_minor": 0
}